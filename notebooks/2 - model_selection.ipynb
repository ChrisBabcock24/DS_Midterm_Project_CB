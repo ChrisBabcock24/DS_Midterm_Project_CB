{
 "cells": [
  {
   "cell_type": "markdown",
   "metadata": {},
   "source": [
    "## Model Selection\n",
    "\n",
    "This notebook should include preliminary and baseline modeling.\n",
    "- Try as many different models as possible.\n",
    "- Don't worry about hyperparameter tuning or cross validation here.\n",
    "- Ideas include:\n",
    "    - linear regression\n",
    "    - support vector machines\n",
    "    - random forest\n",
    "    - xgboost"
   ]
  },
  {
   "cell_type": "code",
   "execution_count": 1,
   "metadata": {},
   "outputs": [],
   "source": [
    "# import models and fit\n",
    "import pandas as pd\n",
    "from sklearn.model_selection import train_test_split\n",
    "from sklearn.linear_model import LinearRegression\n",
    "from sklearn.svm import SVR\n",
    "from sklearn.ensemble import RandomForestRegressor\n",
    "from xgboost import XGBRegressor\n",
    "from sklearn.metrics import mean_squared_error, mean_absolute_error, r2_score\n",
    "import numpy as np\n",
    "from sklearn.linear_model import Lasso\n",
    "\n",
    "# Paths to the training and test data files\n",
    "X_train_path = 'D:/Documents/GitHub/DS_Midterm_Project_CB/processed/X_train.csv'\n",
    "X_test_path = 'D:/Documents/GitHub/DS_Midterm_Project_CB/processed/X_test.csv'\n",
    "y_train_path = 'D:/Documents/GitHub/DS_Midterm_Project_CB/processed/y_train.csv'\n",
    "y_test_path = 'D:/Documents/GitHub/DS_Midterm_Project_CB/processed/y_test.csv'\n",
    "\n",
    "# Load the data\n",
    "X_train = pd.read_csv(X_train_path)\n",
    "X_test = pd.read_csv(X_test_path)\n",
    "y_train = pd.read_csv(y_train_path).iloc[:, 0]\n",
    "y_test = pd.read_csv(y_test_path).iloc[:, 0] \n"
   ]
  },
  {
   "cell_type": "code",
   "execution_count": 2,
   "metadata": {},
   "outputs": [
    {
     "name": "stdout",
     "output_type": "stream",
     "text": [
      "Linear Regression model trained.\n",
      "Support Vector Machines model trained.\n",
      "Random Forest model trained.\n",
      "XGBoost model trained.\n"
     ]
    }
   ],
   "source": [
    "# Initialize models\n",
    "models = {\n",
    "    'Linear Regression': LinearRegression(),\n",
    "    'Support Vector Machines': SVR(),\n",
    "    'Random Forest': RandomForestRegressor(),\n",
    "    'XGBoost': XGBRegressor()\n",
    "}\n",
    "\n",
    "# Train models\n",
    "for name, model in models.items():\n",
    "    model.fit(X_train, y_train)\n",
    "    print(f\"{name} model trained.\")"
   ]
  },
  {
   "cell_type": "markdown",
   "metadata": {},
   "source": [
    "Consider what metrics you want to use to evaluate success.\n",
    "- If you think about mean squared error, can we actually relate to the amount of error?\n",
    "- Try root mean squared error so that error is closer to the original units (dollars)\n",
    "- What does RMSE do to outliers?\n",
    "- Is mean absolute error a good metric for this problem?\n",
    "- What about R^2? Adjusted R^2?\n",
    "- Briefly describe your reasons for picking the metrics you use"
   ]
  },
  {
   "cell_type": "code",
   "execution_count": 3,
   "metadata": {},
   "outputs": [
    {
     "name": "stdout",
     "output_type": "stream",
     "text": [
      "Model: Linear Regression\n",
      "  MSE: 95380048311.5077\n",
      "  RMSE: 308836.6046\n",
      "  MAE: 167770.9930\n",
      "  R^2: 0.4776\n",
      "\n",
      "Model: Support Vector Machines\n",
      "  MSE: 190017618079.8647\n",
      "  RMSE: 435910.1032\n",
      "  MAE: 214474.7731\n",
      "  R^2: -0.0407\n",
      "\n",
      "Model: Random Forest\n",
      "  MSE: 2373125381.9262\n",
      "  RMSE: 48714.7348\n",
      "  MAE: 13311.2005\n",
      "  R^2: 0.9870\n",
      "\n",
      "Model: XGBoost\n",
      "  MSE: 1254897700.6995\n",
      "  RMSE: 35424.5353\n",
      "  MAE: 12321.7226\n",
      "  R^2: 0.9931\n",
      "\n"
     ]
    }
   ],
   "source": [
    "# gather evaluation metrics and compare results\n",
    "\n",
    "# Define a function to evaluate models\n",
    "def evaluate_model(model, X_test, y_test):\n",
    "    y_pred = model.predict(X_test)\n",
    "    mse = mean_squared_error(y_test, y_pred)\n",
    "    rmse = np.sqrt(mse)\n",
    "    mae = mean_absolute_error(y_test, y_pred)\n",
    "    r2 = r2_score(y_test, y_pred)\n",
    "    return mse, rmse, mae, r2\n",
    "\n",
    "# Evaluate each model\n",
    "\n",
    "# Intialize dictionary to store results\n",
    "results = {}\n",
    "for name, model in models.items():\n",
    "    mse, rmse, mae, r2 = evaluate_model(model, X_test, y_test)\n",
    "    results[name] = {\n",
    "        'MSE': mse,\n",
    "        'RMSE': rmse,\n",
    "        'MAE': mae,\n",
    "        'R^2': r2\n",
    "    }\n",
    "\n",
    "# Print results\n",
    "for name, metrics in results.items():\n",
    "    print(f\"Model: {name}\")\n",
    "    for metric_name, value in metrics.items():\n",
    "        print(f\"  {metric_name}: {value:.4f}\")\n",
    "    print()"
   ]
  },
  {
   "cell_type": "markdown",
   "metadata": {},
   "source": [
    "Model: Linear Regression - The MSE and RMSE indicated very high errors and only\n",
    "could explain about 48% of the variance. Not a good candidate.\n",
    "\n",
    "Model: Support Vector Machines - The R2 value indicated negative! It performed \n",
    "worse than linear regression, with very high MSE and RMSE values. Not a good\n",
    "candidate.\n",
    "\n",
    "Model: Random Forest - R2 very high. This model could explain 98.7% of the variance and had lower\n",
    "MSE and RMSE values. This would be a good candidate for prediction. \n",
    "\n",
    "Model: XGBoost - This model had the best R2 value and lowest MSE and RMSE values. This was the best\n",
    "candidate for prediction as it could explain 99.3% of the variance in test data. \n"
   ]
  },
  {
   "cell_type": "markdown",
   "metadata": {},
   "source": [
    "## Feature Selection - STRETCH\n",
    "\n",
    "> **This step doesn't need to be part of your Minimum Viable Product (MVP), but its recommended you complete it if you have time!**\n",
    "\n",
    "Even with all the preprocessing we did in Notebook 1, you probably still have a lot of features. Are they all important for prediction?\n",
    "\n",
    "Investigate some feature selection algorithms (Lasso, RFE, Forward/Backward Selection)\n",
    "- Perform feature selection to get a reduced subset of your original features\n",
    "- Refit your models with this reduced dimensionality - how does performance change on your chosen metrics?\n",
    "- Based on this, should you include feature selection in your final pipeline? Explain\n",
    "\n",
    "Remember, feature selection often doesn't directly improve performance, but if performance remains the same, a simpler model is often preferrable. \n",
    "\n"
   ]
  },
  {
   "cell_type": "code",
   "execution_count": null,
   "metadata": {},
   "outputs": [],
   "source": [
    "# perform feature selection \n",
    "# refit models\n",
    "# gather evaluation metrics and compare to the previous step (full feature set)"
   ]
  },
  {
   "cell_type": "markdown",
   "metadata": {},
   "source": []
  }
 ],
 "metadata": {
  "kernelspec": {
   "display_name": "Python 3",
   "language": "python",
   "name": "python3"
  },
  "language_info": {
   "codemirror_mode": {
    "name": "ipython",
    "version": 3
   },
   "file_extension": ".py",
   "mimetype": "text/x-python",
   "name": "python",
   "nbconvert_exporter": "python",
   "pygments_lexer": "ipython3",
   "version": "3.11.9"
  }
 },
 "nbformat": 4,
 "nbformat_minor": 2
}
